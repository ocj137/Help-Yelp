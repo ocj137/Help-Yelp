{
 "cells": [
  {
   "cell_type": "markdown",
   "metadata": {},
   "source": [
    "\n",
    "## Help Yelp\n",
    "\n",
    "---\n",
    "\n",
    "In this project I will be investigating a small version of the [Yelp challenge dataset](https://www.yelp.com/dataset_challenge). I'll be using classification algorithms, cross-validation, gridsearching – all that good stuff.\n",
    "\n"
   ]
  },
  {
   "cell_type": "markdown",
   "metadata": {},
   "source": [
    "---\n",
    "\n",
    "### The data\n",
    "\n",
    "There are 5 individual .csv files that have the information, zipped into .7z format like with the SF data last project. \n",
    "\n",
    "The columns in each are:\n",
    "\n",
    "    businesses_small_parsed.csv\n",
    "        business_id: unique business identifier\n",
    "        name: name of the business\n",
    "        review_count: number of reviews per business\n",
    "        city: city business resides in\n",
    "        stars: average rating\n",
    "        categories: categories the business falls into (can be one or multiple)\n",
    "        latitude\n",
    "        longitude\n",
    "        neighborhoods: neighborhoods business belongs to\n",
    "        variable: \"property\" of the business (a tag)\n",
    "        value: True/False for the property\n",
    "        \n",
    "    reviews_small_nlp_parsed.csv\n",
    "        user_id: unique user identifier\n",
    "        review_id: unique review identifier\n",
    "        votes.cool: how many thought the review was \"cool\"\n",
    "        business_id: unique business id the review is for\n",
    "        votes.funny: how many thought the review was funny\n",
    "        stars: rating given\n",
    "        date: date of review\n",
    "        votes.useful: how many thought the review was useful\n",
    "        ... 100 columns of counts of most common 2 word phrases that appear in reviews in this review\n",
    "        \n",
    "    users_small_parsed.csv\n",
    "        yelping_since: signup date\n",
    "        compliments.plain: # of compliments \"plain\"\n",
    "        review_count: # of reviews:\n",
    "        compliments.cute: total # of compliments \"cute\"\n",
    "        compliments.writer: # of compliments \"writer\"\n",
    "        compliments.note: # of compliments \"note\" (not sure what this is)\n",
    "        compliments.hot: # of compliments \"hot\" (?)\n",
    "        compliments.cool: # of compliments \"cool\"\n",
    "        compliments.profile: # of compliments \"profile\"\n",
    "        average_stars: average rating\n",
    "        compliments.more: # of compliments \"more\"\n",
    "        elite: years considered \"elite\"\n",
    "        name: user's name\n",
    "        user_id: unique user id\n",
    "        votes.cool: # of votes \"cool\"\n",
    "        compliments.list: # of compliments \"list\"\n",
    "        votes.funny: # of compliments \"funny\"\n",
    "        compliments.photos: # of compliments \"photos\"\n",
    "        compliments.funny: # of compliments \"funny\"\n",
    "        votes.useful: # of votes \"useful\"\n",
    "       \n",
    "    checkins_small_parsed.csv\n",
    "        business_id: unique business identifier\n",
    "        variable: day-time identifier of checkins (0-0 is Sunday 0:00 - 1:00am,  for example)\n",
    "        value: # of checkins at that time\n",
    "    \n",
    "    tips_small_nlp_parsed.csv\n",
    "        user_id: unique user identifier\n",
    "        business_id: unique business identifier\n",
    "        likes: likes that the tip has\n",
    "        date: date of tip\n",
    "        ... 100 columns of counts of most common 2 word phrases that appear in tips in this tip\n",
    "\n",
    "The reviews and tips datasets in particular have parsed \"NLP\" columns with counts of 2-word phrases in that review or tip (a \"tip\", it seems, is some kind of smaller review).\n",
    "\n",
    "The user dataset has a lot of columns of counts of different compliments and votes. I'm not sure whether the compliments or votes are _by_ the user or _for_ the user.\n",
    "\n",
    "---\n",
    "\n",
    "Looking at the website, or the full data, you'll see I have removed pieces of the data and cut it down quite a bit. This is to simplify it for this project. Specifically, business are limited to be in these cities:\n",
    "\n",
    "    Phoenix\n",
    "    Surprise\n",
    "    Las Vegas\n",
    "    Waterloo\n",
    "\n",
    "Apparently there is a city called \"Surprise\" in Arizona. \n",
    "\n",
    "Businesses are also restricted to at least be in one of the following categories, because I thought the mix of them was funny:\n",
    "\n",
    "    Airports\n",
    "    Breakfast & Brunch\n",
    "    Bubble Tea\n",
    "    Burgers\n",
    "    Bars\n",
    "    Bakeries\n",
    "    Breweries\n",
    "    Cafes\n",
    "    Candy Stores\n",
    "    Comedy Clubs\n",
    "    Courthouses\n",
    "    Dance Clubs\n",
    "    Fast Food\n",
    "    Museums\n",
    "    Tattoo\n",
    "    Vape Shops\n",
    "    Yoga\n",
    "    \n",
    "---\n",
    "\n",
    "### Project requirements\n",
    "\n",
    "**I will be performing 4 different sections of analysis.**\n",
    "\n",
    "Remember that classification targets are categorical and regression targets are continuous variables."
   ]
  },
  {
   "cell_type": "markdown",
   "metadata": {},
   "source": [
    "\n",
    "## 1. Constructing a \"profile\" for Las Vegas\n",
    "\n",
    "---\n",
    "\n",
    "Yelp is interested in building out what they are calling \"profiles\" for cities. They want me to start with just Las Vegas to see what a prototype of this would look like. Essentially, they want to know what makes Las Vegas distinct from the other four.\n",
    "\n",
    "Use the data to predict Las Vegas from the other variables I have. I should not be predicting the city from any kind of location data or other data perfectly associated with that city (or another city).\n",
    "\n",
    "I may use any classification algorithm which seesms appropriate, or even multiple models. I will:\n",
    "\n",
    "1. Build at least one model predicting Las Vegas vs. the other cities.\n",
    "- Validate the model(s).\n",
    "- Interpret and visualize, in some way, the results.\n",
    "- Write up a \"profile\" for Las Vegas. This should be a writeup converting the findings from the model(s) into a human-readable description of the city."
   ]
  },
  {
   "cell_type": "code",
   "execution_count": 29,
   "metadata": {
    "collapsed": false
   },
   "outputs": [],
   "source": [
    "import matplotlib.pyplot as plt\n",
    "import numpy as np\n",
    "import pandas as pd\n",
    "\n",
    "import seaborn as sns\n",
    "import patsy\n",
    "\n",
    "from sklearn.cross_validation import train_test_split\n",
    "from sklearn.neighbors import KNeighborsClassifier\n",
    "from sklearn.cross_validation import KFold, StratifiedKFold, cross_val_score\n",
    "from sklearn.linear_model import LogisticRegression\n",
    "from sklearn.linear_model import ElasticNet, Ridge\n",
    "\n",
    "from ipywidgets import *\n",
    "from IPython.display import display\n",
    "\n",
    "%matplotlib inline\n",
    "%config InlineBackend.figure_format = 'retina'"
   ]
  },
  {
   "cell_type": "code",
   "execution_count": 30,
   "metadata": {
    "collapsed": true
   },
   "outputs": [],
   "source": [
    "small_biz_data = pd.read_csv('yelp_arizona_data/businesses_small_parsed.csv')"
   ]
  },
  {
   "cell_type": "code",
   "execution_count": 31,
   "metadata": {
    "collapsed": false
   },
   "outputs": [],
   "source": [
    "small_biz_data.city= [x.replace(' ','_') for x in small_biz_data.city]"
   ]
  },
  {
   "cell_type": "code",
   "execution_count": 32,
   "metadata": {
    "collapsed": false
   },
   "outputs": [
    {
     "data": {
      "text/plain": [
       "array(['Phoenix', 'Surprise', 'Las_Vegas', 'Waterloo'], dtype=object)"
      ]
     },
     "execution_count": 32,
     "metadata": {},
     "output_type": "execute_result"
    }
   ],
   "source": [
    "small_biz_data.city.unique()"
   ]
  },
  {
   "cell_type": "code",
   "execution_count": 33,
   "metadata": {
    "collapsed": true
   },
   "outputs": [],
   "source": [
    "lv_mask = (small_biz_data['city'] == 'Las_Vegas')\n",
    "small_biz_data_lv = small_biz_data [lv_mask]"
   ]
  },
  {
   "cell_type": "code",
   "execution_count": 34,
   "metadata": {
    "collapsed": false
   },
   "outputs": [
    {
     "data": {
      "text/html": [
       "<div>\n",
       "<table border=\"1\" class=\"dataframe\">\n",
       "  <thead>\n",
       "    <tr style=\"text-align: right;\">\n",
       "      <th></th>\n",
       "      <th>business_id</th>\n",
       "      <th>name</th>\n",
       "      <th>review_count</th>\n",
       "      <th>city</th>\n",
       "      <th>stars</th>\n",
       "      <th>categories</th>\n",
       "      <th>latitude</th>\n",
       "      <th>longitude</th>\n",
       "      <th>neighborhoods</th>\n",
       "      <th>variable</th>\n",
       "      <th>value</th>\n",
       "    </tr>\n",
       "  </thead>\n",
       "  <tbody>\n",
       "    <tr>\n",
       "      <th>196</th>\n",
       "      <td>l6QcUE8XXLrVH6Ydm4GSNw</td>\n",
       "      <td>Fatburger</td>\n",
       "      <td>12</td>\n",
       "      <td>Las_Vegas</td>\n",
       "      <td>3.0</td>\n",
       "      <td>['Burgers', 'American (Traditional)', 'Fast Fo...</td>\n",
       "      <td>36.197409</td>\n",
       "      <td>-115.191385</td>\n",
       "      <td>[]</td>\n",
       "      <td>attributes.Ambience.divey</td>\n",
       "      <td>False</td>\n",
       "    </tr>\n",
       "    <tr>\n",
       "      <th>197</th>\n",
       "      <td>VZyE9u5-gAG62zfe53hXWA</td>\n",
       "      <td>Artisan Hotel Boutique</td>\n",
       "      <td>387</td>\n",
       "      <td>Las_Vegas</td>\n",
       "      <td>3.0</td>\n",
       "      <td>['Bars', 'Nightlife', 'Lounges', 'Hotels &amp; Tra...</td>\n",
       "      <td>36.143672</td>\n",
       "      <td>-115.169792</td>\n",
       "      <td>[]</td>\n",
       "      <td>attributes.Ambience.divey</td>\n",
       "      <td>False</td>\n",
       "    </tr>\n",
       "    <tr>\n",
       "      <th>198</th>\n",
       "      <td>YwUTwzYD7G25DIICSVqFBQ</td>\n",
       "      <td>Play It Again Sam</td>\n",
       "      <td>22</td>\n",
       "      <td>Las_Vegas</td>\n",
       "      <td>3.5</td>\n",
       "      <td>['Adult Entertainment', 'Bars', 'Nightlife']</td>\n",
       "      <td>36.126894</td>\n",
       "      <td>-115.195024</td>\n",
       "      <td>['Chinatown']</td>\n",
       "      <td>attributes.Ambience.divey</td>\n",
       "      <td>True</td>\n",
       "    </tr>\n",
       "  </tbody>\n",
       "</table>\n",
       "</div>"
      ],
      "text/plain": [
       "                business_id                    name  review_count       city  \\\n",
       "196  l6QcUE8XXLrVH6Ydm4GSNw               Fatburger            12  Las_Vegas   \n",
       "197  VZyE9u5-gAG62zfe53hXWA  Artisan Hotel Boutique           387  Las_Vegas   \n",
       "198  YwUTwzYD7G25DIICSVqFBQ       Play It Again Sam            22  Las_Vegas   \n",
       "\n",
       "     stars                                         categories   latitude  \\\n",
       "196    3.0  ['Burgers', 'American (Traditional)', 'Fast Fo...  36.197409   \n",
       "197    3.0  ['Bars', 'Nightlife', 'Lounges', 'Hotels & Tra...  36.143672   \n",
       "198    3.5       ['Adult Entertainment', 'Bars', 'Nightlife']  36.126894   \n",
       "\n",
       "      longitude  neighborhoods                   variable  value  \n",
       "196 -115.191385             []  attributes.Ambience.divey  False  \n",
       "197 -115.169792             []  attributes.Ambience.divey  False  \n",
       "198 -115.195024  ['Chinatown']  attributes.Ambience.divey   True  "
      ]
     },
     "execution_count": 34,
     "metadata": {},
     "output_type": "execute_result"
    }
   ],
   "source": [
    "small_biz_data_lv.head(3)"
   ]
  },
  {
   "cell_type": "code",
   "execution_count": 35,
   "metadata": {
    "collapsed": true
   },
   "outputs": [],
   "source": [
    "phx_mask = (small_biz_data['city'] == 'Phoenix')\n",
    "small_biz_data_phx = small_biz_data [phx_mask]"
   ]
  },
  {
   "cell_type": "code",
   "execution_count": 36,
   "metadata": {
    "collapsed": false
   },
   "outputs": [
    {
     "data": {
      "text/html": [
       "<div>\n",
       "<table border=\"1\" class=\"dataframe\">\n",
       "  <thead>\n",
       "    <tr style=\"text-align: right;\">\n",
       "      <th></th>\n",
       "      <th>business_id</th>\n",
       "      <th>name</th>\n",
       "      <th>review_count</th>\n",
       "      <th>city</th>\n",
       "      <th>stars</th>\n",
       "      <th>categories</th>\n",
       "      <th>latitude</th>\n",
       "      <th>longitude</th>\n",
       "      <th>neighborhoods</th>\n",
       "      <th>variable</th>\n",
       "      <th>value</th>\n",
       "    </tr>\n",
       "  </thead>\n",
       "  <tbody>\n",
       "    <tr>\n",
       "      <th>0</th>\n",
       "      <td>EmzaQR5hQlF0WIl24NxAZA</td>\n",
       "      <td>Sky Lounge</td>\n",
       "      <td>25</td>\n",
       "      <td>Phoenix</td>\n",
       "      <td>2.5</td>\n",
       "      <td>['American (New)', 'Nightlife', 'Dance Clubs',...</td>\n",
       "      <td>33.448399</td>\n",
       "      <td>-112.071702</td>\n",
       "      <td>[]</td>\n",
       "      <td>attributes.Ambience.divey</td>\n",
       "      <td>False</td>\n",
       "    </tr>\n",
       "    <tr>\n",
       "      <th>1</th>\n",
       "      <td>SiwN7f0N4bs4ZtPc4yPgiA</td>\n",
       "      <td>Palazzo</td>\n",
       "      <td>19</td>\n",
       "      <td>Phoenix</td>\n",
       "      <td>3.0</td>\n",
       "      <td>['Bars', 'Nightlife', 'Dance Clubs']</td>\n",
       "      <td>33.455885</td>\n",
       "      <td>-112.074177</td>\n",
       "      <td>[]</td>\n",
       "      <td>attributes.Ambience.divey</td>\n",
       "      <td>False</td>\n",
       "    </tr>\n",
       "    <tr>\n",
       "      <th>2</th>\n",
       "      <td>e5kc0CQ4R-PCCDgb274gSg</td>\n",
       "      <td>Canyon Cafe</td>\n",
       "      <td>238</td>\n",
       "      <td>Phoenix</td>\n",
       "      <td>3.5</td>\n",
       "      <td>['Cafes', 'Mexican', 'Tex-Mex', 'Restaurants']</td>\n",
       "      <td>33.452154</td>\n",
       "      <td>-112.068620</td>\n",
       "      <td>[]</td>\n",
       "      <td>attributes.Ambience.divey</td>\n",
       "      <td>False</td>\n",
       "    </tr>\n",
       "  </tbody>\n",
       "</table>\n",
       "</div>"
      ],
      "text/plain": [
       "              business_id         name  review_count     city  stars  \\\n",
       "0  EmzaQR5hQlF0WIl24NxAZA   Sky Lounge            25  Phoenix    2.5   \n",
       "1  SiwN7f0N4bs4ZtPc4yPgiA      Palazzo            19  Phoenix    3.0   \n",
       "2  e5kc0CQ4R-PCCDgb274gSg  Canyon Cafe           238  Phoenix    3.5   \n",
       "\n",
       "                                          categories   latitude   longitude  \\\n",
       "0  ['American (New)', 'Nightlife', 'Dance Clubs',...  33.448399 -112.071702   \n",
       "1               ['Bars', 'Nightlife', 'Dance Clubs']  33.455885 -112.074177   \n",
       "2     ['Cafes', 'Mexican', 'Tex-Mex', 'Restaurants']  33.452154 -112.068620   \n",
       "\n",
       "  neighborhoods                   variable  value  \n",
       "0            []  attributes.Ambience.divey  False  \n",
       "1            []  attributes.Ambience.divey  False  \n",
       "2            []  attributes.Ambience.divey  False  "
      ]
     },
     "execution_count": 36,
     "metadata": {},
     "output_type": "execute_result"
    }
   ],
   "source": [
    "small_biz_data_phx.head(3)"
   ]
  },
  {
   "cell_type": "code",
   "execution_count": 37,
   "metadata": {
    "collapsed": false
   },
   "outputs": [
    {
     "data": {
      "text/plain": [
       "array(['False', 'True', '09:00', '11:00', '07:00', '09:30', '16:00',\n",
       "       '10:00', '05:00', '17:00', '21:00', '10:30', '06:00', '06:30',\n",
       "       '08:00', '00:00', '15:00', '15:30', '11:30', '04:00', '14:00',\n",
       "       '01:00', '12:00', '05:30', '04:30', '14:30', '20:00', '07:30',\n",
       "       '13:00', '17:30', '18:00', '16:30', '18:30', '19:30', '19:00',\n",
       "       'full_bar', 'none', 'beer_and_wine', 'no', 'yes_free',\n",
       "       'yes_corkage', '1.0', '2.0', '3.0', '4.0', '03:00', '22:00',\n",
       "       '02:00', '23:00', '20:30', '23:30', '22:30', '21:30', '12:30',\n",
       "       '01:30', '01:20', '02:30', '20:15', '13:30', '23:59', '08:30',\n",
       "       '15:45', '21plus', '18plus', '00:30', 'free', 'paid', '16:45',\n",
       "       '19:15', 'very_loud', 'average', 'loud', 'quiet', 'outdoor', 'yes',\n",
       "       'casual', 'dressy', 'formal'], dtype=object)"
      ]
     },
     "execution_count": 37,
     "metadata": {},
     "output_type": "execute_result"
    }
   ],
   "source": [
    "small_biz_data_phx.value.unique()"
   ]
  },
  {
   "cell_type": "code",
   "execution_count": 38,
   "metadata": {
    "collapsed": true
   },
   "outputs": [],
   "source": [
    "small_biz_data_lv_subset = small_biz_data_lv[['review_count','city','stars']]"
   ]
  },
  {
   "cell_type": "code",
   "execution_count": 39,
   "metadata": {
    "collapsed": false
   },
   "outputs": [
    {
     "data": {
      "text/html": [
       "<div>\n",
       "<table border=\"1\" class=\"dataframe\">\n",
       "  <thead>\n",
       "    <tr style=\"text-align: right;\">\n",
       "      <th></th>\n",
       "      <th>review_count</th>\n",
       "      <th>city</th>\n",
       "      <th>stars</th>\n",
       "    </tr>\n",
       "  </thead>\n",
       "  <tbody>\n",
       "    <tr>\n",
       "      <th>196</th>\n",
       "      <td>12</td>\n",
       "      <td>Las_Vegas</td>\n",
       "      <td>3.0</td>\n",
       "    </tr>\n",
       "    <tr>\n",
       "      <th>197</th>\n",
       "      <td>387</td>\n",
       "      <td>Las_Vegas</td>\n",
       "      <td>3.0</td>\n",
       "    </tr>\n",
       "    <tr>\n",
       "      <th>198</th>\n",
       "      <td>22</td>\n",
       "      <td>Las_Vegas</td>\n",
       "      <td>3.5</td>\n",
       "    </tr>\n",
       "  </tbody>\n",
       "</table>\n",
       "</div>"
      ],
      "text/plain": [
       "     review_count       city  stars\n",
       "196            12  Las_Vegas    3.0\n",
       "197           387  Las_Vegas    3.0\n",
       "198            22  Las_Vegas    3.5"
      ]
     },
     "execution_count": 39,
     "metadata": {},
     "output_type": "execute_result"
    }
   ],
   "source": [
    "small_biz_data_lv_subset.head(3)"
   ]
  },
  {
   "cell_type": "code",
   "execution_count": 40,
   "metadata": {
    "collapsed": true
   },
   "outputs": [],
   "source": [
    "small_biz_data_phx_subset = small_biz_data_phx[['review_count','city','stars']]"
   ]
  },
  {
   "cell_type": "code",
   "execution_count": 41,
   "metadata": {
    "collapsed": false
   },
   "outputs": [
    {
     "data": {
      "text/html": [
       "<div>\n",
       "<table border=\"1\" class=\"dataframe\">\n",
       "  <thead>\n",
       "    <tr style=\"text-align: right;\">\n",
       "      <th></th>\n",
       "      <th>review_count</th>\n",
       "      <th>city</th>\n",
       "      <th>stars</th>\n",
       "    </tr>\n",
       "  </thead>\n",
       "  <tbody>\n",
       "    <tr>\n",
       "      <th>0</th>\n",
       "      <td>25</td>\n",
       "      <td>Phoenix</td>\n",
       "      <td>2.5</td>\n",
       "    </tr>\n",
       "    <tr>\n",
       "      <th>1</th>\n",
       "      <td>19</td>\n",
       "      <td>Phoenix</td>\n",
       "      <td>3.0</td>\n",
       "    </tr>\n",
       "    <tr>\n",
       "      <th>2</th>\n",
       "      <td>238</td>\n",
       "      <td>Phoenix</td>\n",
       "      <td>3.5</td>\n",
       "    </tr>\n",
       "    <tr>\n",
       "      <th>3</th>\n",
       "      <td>10</td>\n",
       "      <td>Phoenix</td>\n",
       "      <td>4.0</td>\n",
       "    </tr>\n",
       "  </tbody>\n",
       "</table>\n",
       "</div>"
      ],
      "text/plain": [
       "   review_count     city  stars\n",
       "0            25  Phoenix    2.5\n",
       "1            19  Phoenix    3.0\n",
       "2           238  Phoenix    3.5\n",
       "3            10  Phoenix    4.0"
      ]
     },
     "execution_count": 41,
     "metadata": {},
     "output_type": "execute_result"
    }
   ],
   "source": [
    "small_biz_data_phx_subset.head(4)"
   ]
  },
  {
   "cell_type": "code",
   "execution_count": 42,
   "metadata": {
    "collapsed": false
   },
   "outputs": [
    {
     "data": {
      "text/plain": [
       "<matplotlib.axes._subplots.AxesSubplot at 0x11827f090>"
      ]
     },
     "execution_count": 42,
     "metadata": {},
     "output_type": "execute_result"
    },
    {
     "data": {
      "image/png": "[encoded data removed]",
      "text/plain": [
       "<matplotlib.figure.Figure at 0x1199f78d0>"
      ]
     },
     "metadata": {
      "image/png": {
       "height": 370,
       "width": 618
      }
     },
     "output_type": "display_data"
    }
   ],
   "source": [
    "# Let's look at some data for Las Vegas & Phoenix: review_count\n",
    "fig = plt.figure(figsize=(10,6))\n",
    "small_biz_data_lv_subset['review_count'].hist(color='b', label='Review Count, Las Vegas')\n",
    "small_biz_data_phx_subset['review_count'].hist(color='y', label='Review Count, Phoenix')"
   ]
  },
  {
   "cell_type": "code",
   "execution_count": 43,
   "metadata": {
    "collapsed": false
   },
   "outputs": [
    {
     "data": {
      "text/plain": [
       "<matplotlib.axes._subplots.AxesSubplot at 0x11827f6d0>"
      ]
     },
     "execution_count": 43,
     "metadata": {},
     "output_type": "execute_result"
    },
    {
     "data": {
      "image/png": "[encoded data removed]",
      "text/plain": [
       "<matplotlib.figure.Figure at 0x1199f7590>"
      ]
     },
     "metadata": {
      "image/png": {
       "height": 370,
       "width": 614
      }
     },
     "output_type": "display_data"
    }
   ],
   "source": [
    "# And also for  Las Vegas& Phoenix: stars\n",
    "fig = plt.figure(figsize=(10,6))\n",
    "small_biz_data_lv_subset['stars'].hist(color='b', label='Review Count, Las Vegas')\n",
    "small_biz_data_phx_subset['stars'].hist(color='yellow', label='Review Count, Phoenix')"
   ]
  },
  {
   "cell_type": "code",
   "execution_count": 44,
   "metadata": {
    "collapsed": true
   },
   "outputs": [],
   "source": [
    "# First the analysis for Las Vegas"
   ]
  },
  {
   "cell_type": "code",
   "execution_count": 45,
   "metadata": {
    "collapsed": false
   },
   "outputs": [],
   "source": [
    "import patsy\n",
    "\n",
    "y1, X1 = patsy.dmatrices(\"review_count ~ stars - 1\", data=small_biz_data_lv_subset, \n",
    "                       return_type=\"dataframe\")\n",
    "y1 = np.ravel(y1)"
   ]
  },
  {
   "cell_type": "code",
   "execution_count": 46,
   "metadata": {
    "collapsed": true
   },
   "outputs": [],
   "source": [
    "X1_train, X1_test, y1_train, y1_test = train_test_split(X1, y1, test_size=.25)"
   ]
  },
  {
   "cell_type": "code",
   "execution_count": 47,
   "metadata": {
    "collapsed": false
   },
   "outputs": [],
   "source": [
    "cv_indices1 = StratifiedKFold(y1, n_folds=5)"
   ]
  },
  {
   "cell_type": "code",
   "execution_count": 48,
   "metadata": {
    "collapsed": true
   },
   "outputs": [],
   "source": [
    "logreg = LogisticRegression()"
   ]
  },
  {
   "cell_type": "code",
   "execution_count": 49,
   "metadata": {
    "collapsed": false
   },
   "outputs": [
    {
     "data": {
      "text/plain": [
       "0.03030335330107229"
      ]
     },
     "execution_count": 49,
     "metadata": {},
     "output_type": "execute_result"
    }
   ],
   "source": [
    "logreg.fit(X1, y1)\n",
    "logreg.score(X1, y1)"
   ]
  },
  {
   "cell_type": "code",
   "execution_count": 50,
   "metadata": {
    "collapsed": false
   },
   "outputs": [
    {
     "data": {
      "text/plain": [
       "0.0304563477964271"
      ]
     },
     "execution_count": 50,
     "metadata": {},
     "output_type": "execute_result"
    }
   ],
   "source": [
    "logreg.fit(X1_train, y1_train)\n",
    "logreg.score(X1_train, y1_train)"
   ]
  },
  {
   "cell_type": "code",
   "execution_count": 51,
   "metadata": {
    "collapsed": false
   },
   "outputs": [
    {
     "name": "stdout",
     "output_type": "stream",
     "text": [
      "Logistic Regression:\n",
      "[0.029798006434259797, 0.030036085756739547, 0.032543747332479729, 0.030540077153879127, 0.03671056167696856]\n",
      "0.0319256956709\n"
     ]
    }
   ],
   "source": [
    "lr1_scores = []\n",
    "\n",
    "for train_i, test_i in cv_indices1:\n",
    "    \n",
    "    X1_tr = X1.iloc[train_i, :] \n",
    "    y1_tr = y1[train_i]\n",
    "    X1_te = X1.iloc[test_i, :] \n",
    "    y1_te = y1[test_i]\n",
    "    \n",
    "    #print X_tr.shape, X_te.shape\n",
    "    logreg.fit(X1_tr, y1_tr)\n",
    "    lr1_scores.append(logreg.score(X1_te, y1_te))\n",
    "    \n",
    "print 'Logistic Regression:'\n",
    "print lr1_scores\n",
    "print np.mean(lr1_scores)"
   ]
  },
  {
   "cell_type": "code",
   "execution_count": 52,
   "metadata": {
    "collapsed": false
   },
   "outputs": [
    {
     "name": "stdout",
     "output_type": "stream",
     "text": [
      "[ 0.02979801  0.03003609  0.03254375  0.03054008  0.03671056]\n"
     ]
    }
   ],
   "source": [
    "print cross_val_score(logreg, X1, y1, cv=5)"
   ]
  },
  {
   "cell_type": "code",
   "execution_count": 53,
   "metadata": {
    "collapsed": false
   },
   "outputs": [
    {
     "data": {
      "text/plain": [
       "array([[<matplotlib.axes._subplots.AxesSubplot object at 0x11d918190>]], dtype=object)"
      ]
     },
     "execution_count": 53,
     "metadata": {},
     "output_type": "execute_result"
    },
    {
     "data": {
      "text/plain": [
       "<matplotlib.figure.Figure at 0x11a103a50>"
      ]
     },
     "metadata": {},
     "output_type": "display_data"
    },
    {
     "data": {
      "image/png": "[encoded data removed]",
      "text/plain": [
       "<matplotlib.figure.Figure at 0x11d93d7d0>"
      ]
     },
     "metadata": {
      "image/png": {
       "height": 268,
       "width": 382
      }
     },
     "output_type": "display_data"
    }
   ],
   "source": [
    "# Let's look at the logistic regression we got for Las Vegas: \n",
    "lr1_df = pd.DataFrame(lr1_scores)\n",
    "fig = plt.figure(figsize=(10,6))\n",
    "lr1_df.hist(color='b', label='Logistic Regression, Las Vegas')"
   ]
  },
  {
   "cell_type": "code",
   "execution_count": null,
   "metadata": {
    "collapsed": true
   },
   "outputs": [],
   "source": [
    "# Second, the analysis for Phoenix"
   ]
  },
  {
   "cell_type": "code",
   "execution_count": 54,
   "metadata": {
    "collapsed": true
   },
   "outputs": [],
   "source": [
    "y2, X2 = patsy.dmatrices(\"review_count ~ stars - 1\", data=small_biz_data_phx_subset, \n",
    "                       return_type=\"dataframe\")\n",
    "y2 = np.ravel(y2)"
   ]
  },
  {
   "cell_type": "code",
   "execution_count": 55,
   "metadata": {
    "collapsed": true
   },
   "outputs": [],
   "source": [
    "X2_train, X2_test, y2_train, y2_test = train_test_split(X2, y2, test_size=.25)"
   ]
  },
  {
   "cell_type": "code",
   "execution_count": 56,
   "metadata": {
    "collapsed": true
   },
   "outputs": [],
   "source": [
    "cv_indices2 = StratifiedKFold(y2, n_folds=5)"
   ]
  },
  {
   "cell_type": "code",
   "execution_count": 57,
   "metadata": {
    "collapsed": true
   },
   "outputs": [],
   "source": [
    "logreg2 = LogisticRegression()"
   ]
  },
  {
   "cell_type": "code",
   "execution_count": 58,
   "metadata": {
    "collapsed": false
   },
   "outputs": [
    {
     "data": {
      "text/plain": [
       "0.036168096248052707"
      ]
     },
     "execution_count": 58,
     "metadata": {},
     "output_type": "execute_result"
    }
   ],
   "source": [
    "logreg2.fit(X2, y2)\n",
    "logreg2.score(X2, y2)"
   ]
  },
  {
   "cell_type": "code",
   "execution_count": 59,
   "metadata": {
    "collapsed": false
   },
   "outputs": [
    {
     "data": {
      "text/plain": [
       "0.039515503390975752"
      ]
     },
     "execution_count": 59,
     "metadata": {},
     "output_type": "execute_result"
    }
   ],
   "source": [
    "logreg2.fit(X2_train, y2_train)\n",
    "logreg2.score(X2_train, y2_train)"
   ]
  },
  {
   "cell_type": "code",
   "execution_count": 60,
   "metadata": {
    "collapsed": false
   },
   "outputs": [
    {
     "name": "stdout",
     "output_type": "stream",
     "text": [
      "Logistic Regression:\n",
      "[0.038522231504687643, 0.039226674138414123, 0.038670921719541958, 0.03926750991127053, 0.039237986920671028]\n",
      "0.0389850648389\n"
     ]
    }
   ],
   "source": [
    "lr2_scores = []\n",
    "\n",
    "for train_i, test_i in cv_indices2:\n",
    "    \n",
    "    X2_tr = X2.iloc[train_i, :] \n",
    "    y2_tr = y2[train_i]\n",
    "    X2_te = X2.iloc[test_i, :] \n",
    "    y2_te = y2[test_i]\n",
    "    \n",
    "    #print X_tr.shape, X_te.shape\n",
    "    logreg2.fit(X2_tr, y2_tr)\n",
    "    lr2_scores.append(logreg2.score(X2_te, y2_te))\n",
    "    \n",
    "print 'Logistic Regression:'\n",
    "print lr2_scores\n",
    "print np.mean(lr2_scores)"
   ]
  },
  {
   "cell_type": "code",
   "execution_count": 61,
   "metadata": {
    "collapsed": false
   },
   "outputs": [
    {
     "name": "stdout",
     "output_type": "stream",
     "text": [
      "[ 0.03852223  0.03922667  0.03867092  0.03926751  0.03923799]\n"
     ]
    }
   ],
   "source": [
    "print cross_val_score(logreg2, X2, y2, cv=5)"
   ]
  },
  {
   "cell_type": "code",
   "execution_count": 62,
   "metadata": {
    "collapsed": false
   },
   "outputs": [
    {
     "data": {
      "text/plain": [
       "array([[<matplotlib.axes._subplots.AxesSubplot object at 0x11a149590>]], dtype=object)"
      ]
     },
     "execution_count": 62,
     "metadata": {},
     "output_type": "execute_result"
    },
    {
     "data": {
      "text/plain": [
       "<matplotlib.figure.Figure at 0x11b898a10>"
      ]
     },
     "metadata": {},
     "output_type": "display_data"
    },
    {
     "data": {
      "image/png": "[encoded data removed]",
      "text/plain": [
       "<matplotlib.figure.Figure at 0x11b1b9690>"
      ]
     },
     "metadata": {
      "image/png": {
       "height": 268,
       "width": 385
      }
     },
     "output_type": "display_data"
    }
   ],
   "source": [
    "# Let's look at the logistic regression we got for Phoenis: \n",
    "lr2_df = pd.DataFrame(lr2_scores)\n",
    "fig = plt.figure(figsize=(10,6))\n",
    "lr2_df.hist(color='y', label='Logistic Regression, Phoenix')"
   ]
  },
  {
   "cell_type": "code",
   "execution_count": null,
   "metadata": {
    "collapsed": true
   },
   "outputs": [],
   "source": [
    "# Based on the analysis above, it seems that correlation beween review counts and stars\n",
    "# is somewhat better in Phoenix that Las Vegas :( \n",
    "# Overall, these numbers are not that good, being so close to 0, which would\n",
    "# indicate no correlation at all"
   ]
  },
  {
   "cell_type": "markdown",
   "metadata": {},
   "source": [
    "\n",
    "## 2. Different categories of ratings\n",
    "\n",
    "---\n",
    "\n",
    "Yelp is finally ready to admit that their rating system sucks. No one cares about the ratings, they just use the site to find out what's nearby. The ratings are simply too unreliable for people. \n",
    "\n",
    "Yelp hypothesizes that this is, in fact, because different people tend to give their ratings based on different things. They believe that perhaps some people always base their ratings on quality of food, others on service, and perhaps other categories as well. \n",
    "\n",
    "1. Do some users tend to talk about service more than others in reviews/tips? I divide up the tips/reviews into more \"service-focused\" ones and those less concerned with service.\n",
    "2. I then create two new ratings for businesses: ratings from just the service-focused reviews and ratings from the non-service reviews.\n",
    "3. I construct a regression model for each of the two ratings. They should use the same predictor variables (of my choice). \n",
    "4. I validate the performance of the models.\n",
    "5. Do the models coefficients differ at all? What does this tell me about the hypothesis that there are in fact two different kinds of ratings?"
   ]
  },
  {
   "cell_type": "code",
   "execution_count": 63,
   "metadata": {
    "collapsed": false
   },
   "outputs": [],
   "source": [
    "#users_small_parsed.csv \n",
    "users_small_data = pd.read_csv('yelp_arizona_data/users_small_parsed.csv')"
   ]
  },
  {
   "cell_type": "code",
   "execution_count": 64,
   "metadata": {
    "collapsed": false
   },
   "outputs": [
    {
     "data": {
      "text/html": [
       "<div>\n",
       "<table border=\"1\" class=\"dataframe\">\n",
       "  <thead>\n",
       "    <tr style=\"text-align: right;\">\n",
       "      <th></th>\n",
       "      <th>yelping_since</th>\n",
       "      <th>compliments.plain</th>\n",
       "      <th>review_count</th>\n",
       "      <th>compliments.cute</th>\n",
       "      <th>compliments.writer</th>\n",
       "      <th>fans</th>\n",
       "      <th>compliments.note</th>\n",
       "      <th>compliments.hot</th>\n",
       "      <th>compliments.cool</th>\n",
       "      <th>compliments.profile</th>\n",
       "      <th>...</th>\n",
       "      <th>compliments.more</th>\n",
       "      <th>elite</th>\n",
       "      <th>name</th>\n",
       "      <th>user_id</th>\n",
       "      <th>votes.cool</th>\n",
       "      <th>compliments.list</th>\n",
       "      <th>votes.funny</th>\n",
       "      <th>compliments.photos</th>\n",
       "      <th>compliments.funny</th>\n",
       "      <th>votes.useful</th>\n",
       "    </tr>\n",
       "  </thead>\n",
       "  <tbody>\n",
       "    <tr>\n",
       "      <th>0</th>\n",
       "      <td>2004-10</td>\n",
       "      <td>959.0</td>\n",
       "      <td>1274</td>\n",
       "      <td>206.0</td>\n",
       "      <td>327.0</td>\n",
       "      <td>1179</td>\n",
       "      <td>611.0</td>\n",
       "      <td>1094.0</td>\n",
       "      <td>1642.0</td>\n",
       "      <td>116.0</td>\n",
       "      <td>...</td>\n",
       "      <td>134.0</td>\n",
       "      <td>[2005, 2006, 2007, 2008, 2009, 2010, 2011, 201...</td>\n",
       "      <td>Jeremy</td>\n",
       "      <td>rpOyqD_893cqmDAtJLbdog</td>\n",
       "      <td>11093</td>\n",
       "      <td>38.0</td>\n",
       "      <td>7681</td>\n",
       "      <td>330.0</td>\n",
       "      <td>580.0</td>\n",
       "      <td>14199</td>\n",
       "    </tr>\n",
       "    <tr>\n",
       "      <th>1</th>\n",
       "      <td>2004-10</td>\n",
       "      <td>89.0</td>\n",
       "      <td>442</td>\n",
       "      <td>23.0</td>\n",
       "      <td>24.0</td>\n",
       "      <td>100</td>\n",
       "      <td>83.0</td>\n",
       "      <td>101.0</td>\n",
       "      <td>145.0</td>\n",
       "      <td>9.0</td>\n",
       "      <td>...</td>\n",
       "      <td>19.0</td>\n",
       "      <td>[2005, 2006, 2007, 2008, 2009, 2010, 2011, 201...</td>\n",
       "      <td>Michael</td>\n",
       "      <td>4U9kSBLuBDU391x6bxU-YA</td>\n",
       "      <td>732</td>\n",
       "      <td>4.0</td>\n",
       "      <td>908</td>\n",
       "      <td>24.0</td>\n",
       "      <td>120.0</td>\n",
       "      <td>1483</td>\n",
       "    </tr>\n",
       "    <tr>\n",
       "      <th>2</th>\n",
       "      <td>2004-10</td>\n",
       "      <td>2.0</td>\n",
       "      <td>66</td>\n",
       "      <td>2.0</td>\n",
       "      <td>2.0</td>\n",
       "      <td>4</td>\n",
       "      <td>1.0</td>\n",
       "      <td>1.0</td>\n",
       "      <td>1.0</td>\n",
       "      <td>NaN</td>\n",
       "      <td>...</td>\n",
       "      <td>1.0</td>\n",
       "      <td>[2005]</td>\n",
       "      <td>Katherine</td>\n",
       "      <td>SIBCL7HBkrP4llolm4SC2A</td>\n",
       "      <td>13</td>\n",
       "      <td>NaN</td>\n",
       "      <td>11</td>\n",
       "      <td>NaN</td>\n",
       "      <td>NaN</td>\n",
       "      <td>34</td>\n",
       "    </tr>\n",
       "    <tr>\n",
       "      <th>3</th>\n",
       "      <td>2004-10</td>\n",
       "      <td>5.0</td>\n",
       "      <td>101</td>\n",
       "      <td>1.0</td>\n",
       "      <td>3.0</td>\n",
       "      <td>7</td>\n",
       "      <td>3.0</td>\n",
       "      <td>5.0</td>\n",
       "      <td>4.0</td>\n",
       "      <td>1.0</td>\n",
       "      <td>...</td>\n",
       "      <td>2.0</td>\n",
       "      <td>[]</td>\n",
       "      <td>Nader</td>\n",
       "      <td>UTS9XcT14H2ZscRIf0MYHQ</td>\n",
       "      <td>49</td>\n",
       "      <td>NaN</td>\n",
       "      <td>53</td>\n",
       "      <td>1.0</td>\n",
       "      <td>8.0</td>\n",
       "      <td>243</td>\n",
       "    </tr>\n",
       "    <tr>\n",
       "      <th>4</th>\n",
       "      <td>2004-10</td>\n",
       "      <td>104.0</td>\n",
       "      <td>983</td>\n",
       "      <td>82.0</td>\n",
       "      <td>17.0</td>\n",
       "      <td>78</td>\n",
       "      <td>85.0</td>\n",
       "      <td>265.0</td>\n",
       "      <td>212.0</td>\n",
       "      <td>9.0</td>\n",
       "      <td>...</td>\n",
       "      <td>16.0</td>\n",
       "      <td>[2005, 2006, 2007, 2008, 2010, 2011, 2012]</td>\n",
       "      <td>Helen</td>\n",
       "      <td>ZWOj6LmzwGvMDh-A85EOtA</td>\n",
       "      <td>1928</td>\n",
       "      <td>3.0</td>\n",
       "      <td>1109</td>\n",
       "      <td>57.0</td>\n",
       "      <td>70.0</td>\n",
       "      <td>2404</td>\n",
       "    </tr>\n",
       "  </tbody>\n",
       "</table>\n",
       "<p>5 rows × 21 columns</p>\n",
       "</div>"
      ],
      "text/plain": [
       "  yelping_since  compliments.plain  review_count  compliments.cute  \\\n",
       "0       2004-10              959.0          1274             206.0   \n",
       "1       2004-10               89.0           442              23.0   \n",
       "2       2004-10                2.0            66               2.0   \n",
       "3       2004-10                5.0           101               1.0   \n",
       "4       2004-10              104.0           983              82.0   \n",
       "\n",
       "   compliments.writer  fans  compliments.note  compliments.hot  \\\n",
       "0               327.0  1179             611.0           1094.0   \n",
       "1                24.0   100              83.0            101.0   \n",
       "2                 2.0     4               1.0              1.0   \n",
       "3                 3.0     7               3.0              5.0   \n",
       "4                17.0    78              85.0            265.0   \n",
       "\n",
       "   compliments.cool  compliments.profile      ...       compliments.more  \\\n",
       "0            1642.0                116.0      ...                  134.0   \n",
       "1             145.0                  9.0      ...                   19.0   \n",
       "2               1.0                  NaN      ...                    1.0   \n",
       "3               4.0                  1.0      ...                    2.0   \n",
       "4             212.0                  9.0      ...                   16.0   \n",
       "\n",
       "                                               elite       name  \\\n",
       "0  [2005, 2006, 2007, 2008, 2009, 2010, 2011, 201...     Jeremy   \n",
       "1  [2005, 2006, 2007, 2008, 2009, 2010, 2011, 201...    Michael   \n",
       "2                                             [2005]  Katherine   \n",
       "3                                                 []      Nader   \n",
       "4         [2005, 2006, 2007, 2008, 2010, 2011, 2012]      Helen   \n",
       "\n",
       "                  user_id votes.cool  compliments.list  votes.funny  \\\n",
       "0  rpOyqD_893cqmDAtJLbdog      11093              38.0         7681   \n",
       "1  4U9kSBLuBDU391x6bxU-YA        732               4.0          908   \n",
       "2  SIBCL7HBkrP4llolm4SC2A         13               NaN           11   \n",
       "3  UTS9XcT14H2ZscRIf0MYHQ         49               NaN           53   \n",
       "4  ZWOj6LmzwGvMDh-A85EOtA       1928               3.0         1109   \n",
       "\n",
       "   compliments.photos  compliments.funny  votes.useful  \n",
       "0               330.0              580.0         14199  \n",
       "1                24.0              120.0          1483  \n",
       "2                 NaN                NaN            34  \n",
       "3                 1.0                8.0           243  \n",
       "4                57.0               70.0          2404  \n",
       "\n",
       "[5 rows x 21 columns]"
      ]
     },
     "execution_count": 64,
     "metadata": {},
     "output_type": "execute_result"
    }
   ],
   "source": [
    "users_small_data.head()"
   ]
  },
  {
   "cell_type": "code",
   "execution_count": 65,
   "metadata": {
    "collapsed": false
   },
   "outputs": [],
   "source": [
    "users_small_data.columns = [x.replace('.','_') for x in users_small_data.columns]"
   ]
  },
  {
   "cell_type": "code",
   "execution_count": 66,
   "metadata": {
    "collapsed": false
   },
   "outputs": [
    {
     "data": {
      "text/html": [
       "<div>\n",
       "<table border=\"1\" class=\"dataframe\">\n",
       "  <thead>\n",
       "    <tr style=\"text-align: right;\">\n",
       "      <th></th>\n",
       "      <th>yelping_since</th>\n",
       "      <th>compliments_plain</th>\n",
       "      <th>review_count</th>\n",
       "      <th>compliments_cute</th>\n",
       "      <th>compliments_writer</th>\n",
       "      <th>fans</th>\n",
       "      <th>compliments_note</th>\n",
       "      <th>compliments_hot</th>\n",
       "      <th>compliments_cool</th>\n",
       "      <th>compliments_profile</th>\n",
       "      <th>...</th>\n",
       "      <th>compliments_more</th>\n",
       "      <th>elite</th>\n",
       "      <th>name</th>\n",
       "      <th>user_id</th>\n",
       "      <th>votes_cool</th>\n",
       "      <th>compliments_list</th>\n",
       "      <th>votes_funny</th>\n",
       "      <th>compliments_photos</th>\n",
       "      <th>compliments_funny</th>\n",
       "      <th>votes_useful</th>\n",
       "    </tr>\n",
       "  </thead>\n",
       "  <tbody>\n",
       "    <tr>\n",
       "      <th>0</th>\n",
       "      <td>2004-10</td>\n",
       "      <td>959.0</td>\n",
       "      <td>1274</td>\n",
       "      <td>206.0</td>\n",
       "      <td>327.0</td>\n",
       "      <td>1179</td>\n",
       "      <td>611.0</td>\n",
       "      <td>1094.0</td>\n",
       "      <td>1642.0</td>\n",
       "      <td>116.0</td>\n",
       "      <td>...</td>\n",
       "      <td>134.0</td>\n",
       "      <td>[2005, 2006, 2007, 2008, 2009, 2010, 2011, 201...</td>\n",
       "      <td>Jeremy</td>\n",
       "      <td>rpOyqD_893cqmDAtJLbdog</td>\n",
       "      <td>11093</td>\n",
       "      <td>38.0</td>\n",
       "      <td>7681</td>\n",
       "      <td>330.0</td>\n",
       "      <td>580.0</td>\n",
       "      <td>14199</td>\n",
       "    </tr>\n",
       "    <tr>\n",
       "      <th>1</th>\n",
       "      <td>2004-10</td>\n",
       "      <td>89.0</td>\n",
       "      <td>442</td>\n",
       "      <td>23.0</td>\n",
       "      <td>24.0</td>\n",
       "      <td>100</td>\n",
       "      <td>83.0</td>\n",
       "      <td>101.0</td>\n",
       "      <td>145.0</td>\n",
       "      <td>9.0</td>\n",
       "      <td>...</td>\n",
       "      <td>19.0</td>\n",
       "      <td>[2005, 2006, 2007, 2008, 2009, 2010, 2011, 201...</td>\n",
       "      <td>Michael</td>\n",
       "      <td>4U9kSBLuBDU391x6bxU-YA</td>\n",
       "      <td>732</td>\n",
       "      <td>4.0</td>\n",
       "      <td>908</td>\n",
       "      <td>24.0</td>\n",
       "      <td>120.0</td>\n",
       "      <td>1483</td>\n",
       "    </tr>\n",
       "    <tr>\n",
       "      <th>2</th>\n",
       "      <td>2004-10</td>\n",
       "      <td>2.0</td>\n",
       "      <td>66</td>\n",
       "      <td>2.0</td>\n",
       "      <td>2.0</td>\n",
       "      <td>4</td>\n",
       "      <td>1.0</td>\n",
       "      <td>1.0</td>\n",
       "      <td>1.0</td>\n",
       "      <td>NaN</td>\n",
       "      <td>...</td>\n",
       "      <td>1.0</td>\n",
       "      <td>[2005]</td>\n",
       "      <td>Katherine</td>\n",
       "      <td>SIBCL7HBkrP4llolm4SC2A</td>\n",
       "      <td>13</td>\n",
       "      <td>NaN</td>\n",
       "      <td>11</td>\n",
       "      <td>NaN</td>\n",
       "      <td>NaN</td>\n",
       "      <td>34</td>\n",
       "    </tr>\n",
       "    <tr>\n",
       "      <th>3</th>\n",
       "      <td>2004-10</td>\n",
       "      <td>5.0</td>\n",
       "      <td>101</td>\n",
       "      <td>1.0</td>\n",
       "      <td>3.0</td>\n",
       "      <td>7</td>\n",
       "      <td>3.0</td>\n",
       "      <td>5.0</td>\n",
       "      <td>4.0</td>\n",
       "      <td>1.0</td>\n",
       "      <td>...</td>\n",
       "      <td>2.0</td>\n",
       "      <td>[]</td>\n",
       "      <td>Nader</td>\n",
       "      <td>UTS9XcT14H2ZscRIf0MYHQ</td>\n",
       "      <td>49</td>\n",
       "      <td>NaN</td>\n",
       "      <td>53</td>\n",
       "      <td>1.0</td>\n",
       "      <td>8.0</td>\n",
       "      <td>243</td>\n",
       "    </tr>\n",
       "    <tr>\n",
       "      <th>4</th>\n",
       "      <td>2004-10</td>\n",
       "      <td>104.0</td>\n",
       "      <td>983</td>\n",
       "      <td>82.0</td>\n",
       "      <td>17.0</td>\n",
       "      <td>78</td>\n",
       "      <td>85.0</td>\n",
       "      <td>265.0</td>\n",
       "      <td>212.0</td>\n",
       "      <td>9.0</td>\n",
       "      <td>...</td>\n",
       "      <td>16.0</td>\n",
       "      <td>[2005, 2006, 2007, 2008, 2010, 2011, 2012]</td>\n",
       "      <td>Helen</td>\n",
       "      <td>ZWOj6LmzwGvMDh-A85EOtA</td>\n",
       "      <td>1928</td>\n",
       "      <td>3.0</td>\n",
       "      <td>1109</td>\n",
       "      <td>57.0</td>\n",
       "      <td>70.0</td>\n",
       "      <td>2404</td>\n",
       "    </tr>\n",
       "  </tbody>\n",
       "</table>\n",
       "<p>5 rows × 21 columns</p>\n",
       "</div>"
      ],
      "text/plain": [
       "  yelping_since  compliments_plain  review_count  compliments_cute  \\\n",
       "0       2004-10              959.0          1274             206.0   \n",
       "1       2004-10               89.0           442              23.0   \n",
       "2       2004-10                2.0            66               2.0   \n",
       "3       2004-10                5.0           101               1.0   \n",
       "4       2004-10              104.0           983              82.0   \n",
       "\n",
       "   compliments_writer  fans  compliments_note  compliments_hot  \\\n",
       "0               327.0  1179             611.0           1094.0   \n",
       "1                24.0   100              83.0            101.0   \n",
       "2                 2.0     4               1.0              1.0   \n",
       "3                 3.0     7               3.0              5.0   \n",
       "4                17.0    78              85.0            265.0   \n",
       "\n",
       "   compliments_cool  compliments_profile      ...       compliments_more  \\\n",
       "0            1642.0                116.0      ...                  134.0   \n",
       "1             145.0                  9.0      ...                   19.0   \n",
       "2               1.0                  NaN      ...                    1.0   \n",
       "3               4.0                  1.0      ...                    2.0   \n",
       "4             212.0                  9.0      ...                   16.0   \n",
       "\n",
       "                                               elite       name  \\\n",
       "0  [2005, 2006, 2007, 2008, 2009, 2010, 2011, 201...     Jeremy   \n",
       "1  [2005, 2006, 2007, 2008, 2009, 2010, 2011, 201...    Michael   \n",
       "2                                             [2005]  Katherine   \n",
       "3                                                 []      Nader   \n",
       "4         [2005, 2006, 2007, 2008, 2010, 2011, 2012]      Helen   \n",
       "\n",
       "                  user_id votes_cool  compliments_list  votes_funny  \\\n",
       "0  rpOyqD_893cqmDAtJLbdog      11093              38.0         7681   \n",
       "1  4U9kSBLuBDU391x6bxU-YA        732               4.0          908   \n",
       "2  SIBCL7HBkrP4llolm4SC2A         13               NaN           11   \n",
       "3  UTS9XcT14H2ZscRIf0MYHQ         49               NaN           53   \n",
       "4  ZWOj6LmzwGvMDh-A85EOtA       1928               3.0         1109   \n",
       "\n",
       "   compliments_photos  compliments_funny  votes_useful  \n",
       "0               330.0              580.0         14199  \n",
       "1                24.0              120.0          1483  \n",
       "2                 NaN                NaN            34  \n",
       "3                 1.0                8.0           243  \n",
       "4                57.0               70.0          2404  \n",
       "\n",
       "[5 rows x 21 columns]"
      ]
     },
     "execution_count": 66,
     "metadata": {},
     "output_type": "execute_result"
    }
   ],
   "source": [
    "users_small_data.head()"
   ]
  },
  {
   "cell_type": "code",
   "execution_count": 67,
   "metadata": {
    "collapsed": false
   },
   "outputs": [
    {
     "data": {
      "text/plain": [
       "Index([u'yelping_since', u'compliments_plain', u'review_count',\n",
       "       u'compliments_cute', u'compliments_writer', u'fans',\n",
       "       u'compliments_note', u'compliments_hot', u'compliments_cool',\n",
       "       u'compliments_profile', u'average_stars', u'compliments_more', u'elite',\n",
       "       u'name', u'user_id', u'votes_cool', u'compliments_list', u'votes_funny',\n",
       "       u'compliments_photos', u'compliments_funny', u'votes_useful'],\n",
       "      dtype='object')"
      ]
     },
     "execution_count": 67,
     "metadata": {},
     "output_type": "execute_result"
    }
   ],
   "source": [
    "users_small_data.columns"
   ]
  },
  {
   "cell_type": "code",
   "execution_count": 70,
   "metadata": {
    "collapsed": false
   },
   "outputs": [],
   "source": [
    "users_small_data_service = users_small_data[['review_count', 'compliments_plain','compliments_note', \n",
    "                                             'compliments_more','compliments_list', 'elite',\n",
    "                                            'votes_useful']]"
   ]
  },
  {
   "cell_type": "code",
   "execution_count": 71,
   "metadata": {
    "collapsed": true
   },
   "outputs": [],
   "source": [
    "users_small_data_non = users_small_data[['compliments_cute','compliments_hot', 'compliments_cool',\n",
    "                                        'votes_cool', 'votes_funny', 'compliments_funny']]"
   ]
  },
  {
   "cell_type": "code",
   "execution_count": 72,
   "metadata": {
    "collapsed": false
   },
   "outputs": [],
   "source": [
    "target3 = 'review_count'\n",
    "non_target_cols3 = ['compliments_plain','compliments_note','compliments_more','compliments_list', 'elite',\n",
    "                                            'votes_useful']\n",
    "\n",
    "formula3 = target3 + ' ~ ' + ' + '.join(non_target_cols3) + ' -1'\n",
    "\n",
    "y3, X3 = patsy.dmatrices(formula3, data=users_small_data_service, \n",
    "                       return_type=\"dataframe\")\n",
    "y3 = np.ravel(y3)"
   ]
  },
  {
   "cell_type": "code",
   "execution_count": 73,
   "metadata": {
    "collapsed": true
   },
   "outputs": [],
   "source": [
    "X3_train, X3_test, y3_train, y3_test = train_test_split(X3, y3, test_size=.25)"
   ]
  },
  {
   "cell_type": "code",
   "execution_count": 74,
   "metadata": {
    "collapsed": false
   },
   "outputs": [
    {
     "name": "stderr",
     "output_type": "stream",
     "text": [
      "/Users/Ovid/anaconda2/envs/dsi/lib/python2.7/site-packages/sklearn/cross_validation.py:516: Warning: The least populated class in y has only 1 members, which is too few. The minimum number of labels for any class cannot be less than n_folds=5.\n",
      "  % (min_labels, self.n_folds)), Warning)\n"
     ]
    }
   ],
   "source": [
    "cv_indices3 = StratifiedKFold(y3, n_folds=5)"
   ]
  },
  {
   "cell_type": "code",
   "execution_count": 75,
   "metadata": {
    "collapsed": true
   },
   "outputs": [],
   "source": [
    "logreg3 = LogisticRegression()"
   ]
  },
  {
   "cell_type": "code",
   "execution_count": 76,
   "metadata": {
    "collapsed": false
   },
   "outputs": [
    {
     "data": {
      "text/plain": [
       "0.018798789230524134"
      ]
     },
     "execution_count": 76,
     "metadata": {},
     "output_type": "execute_result"
    }
   ],
   "source": [
    "logreg3.fit(X3, y3)\n",
    "logreg3.score(X3, y3)"
   ]
  },
  {
   "cell_type": "code",
   "execution_count": 79,
   "metadata": {
    "collapsed": false
   },
   "outputs": [
    {
     "name": "stdout",
     "output_type": "stream",
     "text": [
      "Logistic Regression:\n",
      "[0.0015682174594877157, 0.0, 0.0017152658662092624, 0.0, 0.0012406947890818859]\n",
      "0.000904835622956\n"
     ]
    }
   ],
   "source": [
    "lr3_scores = []\n",
    "\n",
    "for train_i, test_i in cv_indices3:\n",
    "    \n",
    "    X3_tr = X3.iloc[train_i, :] \n",
    "    y3_tr = y3[train_i]\n",
    "    X3_te = X3.iloc[test_i, :] \n",
    "    y3_te = y3[test_i]\n",
    "    \n",
    "    #print X_tr.shape, X_te.shape\n",
    "    logreg3.fit(X3_tr, y3_tr)\n",
    "    lr3_scores.append(logreg3.score(X3_te, y3_te))\n",
    "    \n",
    "print 'Logistic Regression:'\n",
    "print lr3_scores\n",
    "print np.mean(lr3_scores)"
   ]
  },
  {
   "cell_type": "code",
   "execution_count": 77,
   "metadata": {
    "collapsed": false
   },
   "outputs": [
    {
     "name": "stdout",
     "output_type": "stream",
     "text": [
      "[ 0.00156822  0.          0.00171527  0.          0.00124069]\n"
     ]
    }
   ],
   "source": [
    "print cross_val_score(logreg3, X3, y3, cv=5)"
   ]
  },
  {
   "cell_type": "code",
   "execution_count": 81,
   "metadata": {
    "collapsed": false
   },
   "outputs": [
    {
     "data": {
      "text/plain": [
       "array([[<matplotlib.axes._subplots.AxesSubplot object at 0x11b1b6890>]], dtype=object)"
      ]
     },
     "execution_count": 81,
     "metadata": {},
     "output_type": "execute_result"
    },
    {
     "data": {
      "text/plain": [
       "<matplotlib.figure.Figure at 0x128bcba10>"
      ]
     },
     "metadata": {},
     "output_type": "display_data"
    },
    {
     "data": {
      "image/png": "[encoded data removed]",
      "text/plain": [
       "<matplotlib.figure.Figure at 0x119f81a10>"
      ]
     },
     "metadata": {
      "image/png": {
       "height": 268,
       "width": 385
      }
     },
     "output_type": "display_data"
    }
   ],
   "source": [
    "# Let's look at the logistic regression we got for service focused data: \n",
    "lr3_df = pd.DataFrame(lr3_scores)\n",
    "fig = plt.figure(figsize=(10,6))\n",
    "lr3_df.hist(color='r', label='Logistic Regression, review count')"
   ]
  },
  {
   "cell_type": "code",
   "execution_count": 82,
   "metadata": {
    "collapsed": true
   },
   "outputs": [],
   "source": [
    "target4 = 'review_count'\n",
    "\n",
    "non_target_cols4 = ['compliments_cute','compliments_hot', 'compliments_cool',\n",
    "                                        'votes_cool', 'votes_funny', 'compliments_funny']\n",
    "formula4 = target4 + ' ~ ' + ' + '.join(non_target_cols3) + ' -1'\n",
    "\n",
    "y4, X4 = patsy.dmatrices(formula4, data=users_small_data_service, \n",
    "                       return_type=\"dataframe\")\n",
    "y4 = np.ravel(y4)"
   ]
  },
  {
   "cell_type": "code",
   "execution_count": 83,
   "metadata": {
    "collapsed": true
   },
   "outputs": [],
   "source": [
    "X4_train, X4_test, y4_train, y4_test = train_test_split(X4, y4, test_size=.25)"
   ]
  },
  {
   "cell_type": "code",
   "execution_count": 84,
   "metadata": {
    "collapsed": true
   },
   "outputs": [],
   "source": [
    "cv_indices4 = StratifiedKFold(y4, n_folds=5)"
   ]
  },
  {
   "cell_type": "code",
   "execution_count": 85,
   "metadata": {
    "collapsed": true
   },
   "outputs": [],
   "source": [
    "logreg4 = LogisticRegression()"
   ]
  },
  {
   "cell_type": "code",
   "execution_count": 86,
   "metadata": {
    "collapsed": false
   },
   "outputs": [
    {
     "data": {
      "text/plain": [
       "0.018798789230524134"
      ]
     },
     "execution_count": 86,
     "metadata": {},
     "output_type": "execute_result"
    }
   ],
   "source": [
    "logreg4.fit(X4, y4)\n",
    "logreg4.score(X4, y4)"
   ]
  },
  {
   "cell_type": "code",
   "execution_count": 87,
   "metadata": {
    "collapsed": false
   },
   "outputs": [
    {
     "name": "stdout",
     "output_type": "stream",
     "text": [
      "Logistic Regression:\n",
      "[0.0015682174594877157, 0.0, 0.0017152658662092624, 0.0, 0.0012406947890818859]\n",
      "0.000904835622956\n"
     ]
    }
   ],
   "source": [
    "lr4_scores = []\n",
    "\n",
    "for train_i, test_i in cv_indices3:\n",
    "    \n",
    "    X4_tr = X4.iloc[train_i, :] \n",
    "    y4_tr = y4[train_i]\n",
    "    X4_te = X4.iloc[test_i, :] \n",
    "    y4_te = y4[test_i]\n",
    "    \n",
    "    #print X_tr.shape, X_te.shape\n",
    "    logreg4.fit(X4_tr, y4_tr)\n",
    "    lr4_scores.append(logreg4.score(X4_te, y4_te))\n",
    "    \n",
    "print 'Logistic Regression:'\n",
    "print lr4_scores\n",
    "print np.mean(lr4_scores)"
   ]
  },
  {
   "cell_type": "code",
   "execution_count": 131,
   "metadata": {
    "collapsed": false
   },
   "outputs": [
    {
     "name": "stdout",
     "output_type": "stream",
     "text": [
      "[ 0.00156822  0.          0.00171527  0.          0.00124069]\n"
     ]
    }
   ],
   "source": [
    "print cross_val_score(logreg4, X4, y4, cv=5)"
   ]
  },
  {
   "cell_type": "code",
   "execution_count": 88,
   "metadata": {
    "collapsed": false
   },
   "outputs": [
    {
     "data": {
      "text/plain": [
       "array([[<matplotlib.axes._subplots.AxesSubplot object at 0x11a6ba750>]], dtype=object)"
      ]
     },
     "execution_count": 88,
     "metadata": {},
     "output_type": "execute_result"
    },
    {
     "data": {
      "text/plain": [
       "<matplotlib.figure.Figure at 0x11a62bd50>"
      ]
     },
     "metadata": {},
     "output_type": "display_data"
    },
    {
     "data": {
      "image/png": "[encoded data removed]",
      "text/plain": [
       "<matplotlib.figure.Figure at 0x11a43d090>"
      ]
     },
     "metadata": {
      "image/png": {
       "height": 268,
       "width": 385
      }
     },
     "output_type": "display_data"
    }
   ],
   "source": [
    "# Let's look at the logistic regression we got for non-service focused data: \n",
    "lr4_df = pd.DataFrame(lr4_scores)\n",
    "fig = plt.figure(figsize=(10,6))\n",
    "lr4_df.hist(color='g', label='Logistic Regression, review count')"
   ]
  },
  {
   "cell_type": "code",
   "execution_count": null,
   "metadata": {
    "collapsed": true
   },
   "outputs": [],
   "source": [
    "print \"The 2 scores do not differ that much:\", np.mean(lr3_scores), np.mean(lr4_scores)\n",
    "print \"The data does not support the idea that the ratings\"\n",
    "print \"are for different things.\""
   ]
  },
  {
   "cell_type": "markdown",
   "metadata": {},
   "source": [
    "\n",
    "## 3. Identifying \"elite\" users\n",
    "\n",
    "---\n",
    "\n",
    "Yelp, though having their own formula for determining whether a user is elite or not, is interested in delving deeper into what differentiates an elite user from a normal user at a broader level.\n",
    "\n",
    "Use a classification model to predict whether a user is elite or not. Note that users can be elite in some years and not in others.\n",
    "\n",
    "1. What things predict well whether a user is elite or not?\n",
    "- Validate the model.\n",
    "- If I remove the \"counts\" metrics for users (reviews, votes, compliments), what distinguishes an elite user, if anything? Let me validate the model and compare it to the one with the count variables.\n",
    "- Think of a way to visually represent the results in a compelling way.\n",
    "- I will then give a brief write-up of the findings.\n"
   ]
  },
  {
   "cell_type": "code",
   "execution_count": 125,
   "metadata": {
    "collapsed": false
   },
   "outputs": [],
   "source": [
    "users_small_data_use = users_small_data[['review_count', 'compliments_plain','compliments_note', \n",
    "                                             'compliments_more','compliments_list', 'elite',\n",
    "                                            'votes_useful',\n",
    "                                    'compliments_cute','compliments_hot', 'compliments_cool',\n",
    "                                        'votes_cool', 'votes_funny', 'compliments_funny']]"
   ]
  },
  {
   "cell_type": "code",
   "execution_count": 126,
   "metadata": {
    "collapsed": false
   },
   "outputs": [
    {
     "name": "stdout",
     "output_type": "stream",
     "text": [
      "elite ~ review_count + compliments_plain + compliments_note + compliments_more + compliments_list + votes_useful + compliments_cute + compliments_hot + compliments_cool + votes_cool + votes_funny + compliments_funny -1\n"
     ]
    }
   ],
   "source": [
    "# We'll use 'elite' as our target\n",
    "# and all the other cols as the variables\n",
    "\n",
    "target5 = 'elite'\n",
    "non_target_cols5 = [x  for x  in users_small_data_use.columns if x != target5]\n",
    "\n",
    "formula5 = target5 + ' ~ ' + ' + '.join(non_target_cols5) + ' -1'\n",
    "print formula5"
   ]
  },
  {
   "cell_type": "code",
   "execution_count": 127,
   "metadata": {
    "collapsed": false
   },
   "outputs": [],
   "source": [
    "# Create the X and Y pairs for our data\n",
    "Y5, X5 = patsy.dmatrices(formula5, data=users_small_data_use)"
   ]
  },
  {
   "cell_type": "code",
   "execution_count": 128,
   "metadata": {
    "collapsed": true
   },
   "outputs": [],
   "source": [
    "simple_feature_names5 = X5.design_info.column_names"
   ]
  },
  {
   "cell_type": "code",
   "execution_count": 129,
   "metadata": {
    "collapsed": true
   },
   "outputs": [],
   "source": [
    "from cycler import cycler\n",
    "\n",
    "from ipywidgets import *\n",
    "from IPython.display import display\n",
    "\n",
    "\n",
    "def coef_plotter(alphas, coefs, feature_names, to_alpha, regtype='ridge'):\n",
    "    \n",
    "    # Get the full range of alphas before subsetting to keep the plots from \n",
    "    # resetting axes each time. (We use these values to set static axes later).\n",
    "    amin = np.min(alphas)\n",
    "    amax = np.max(alphas)\n",
    "    \n",
    "    # Subset the alphas and coefficients to just the ones below the set limit\n",
    "    # from the interactive widget:\n",
    "    alphas = [a for a in alphas if a <= to_alpha]\n",
    "    coefs = coefs[0:len(alphas)]\n",
    "    \n",
    "    # Get some colors from seaborn:\n",
    "    colors = sns.color_palette(\"husl\", len(coefs[0]))\n",
    "    \n",
    "    # Get the figure and reset the size to be wider:\n",
    "    fig = plt.figure()\n",
    "    fig.set_size_inches(18,7)\n",
    "\n",
    "    # We have two axes this time on our figure. \n",
    "    # The fig.add_subplot adds axes to our figure. The number inside stands for:\n",
    "    #[figure_rows|figure_cols|position_of_current_axes]\n",
    "    ax1 = fig.add_subplot(121)\n",
    "    \n",
    "    # Give it the color cycler:\n",
    "    ax1.set_prop_cycle(cycler('color', colors))\n",
    "    \n",
    "    # Print a vertical line showing our current alpha threshold:\n",
    "    ax1.axvline(to_alpha, lw=2, ls='dashed', c='k', alpha=0.4)\n",
    "    \n",
    "    # Plot the lines of the alphas on x-axis and coefficients on y-axis\n",
    "    ax1.plot(alphas, coefs, lw=2) \n",
    "    \n",
    "    # set labels for axes:\n",
    "    ax1.set_xlabel('alpha', fontsize=20)\n",
    "    ax1.set_ylabel('coefficients', fontsize=20)\n",
    "    \n",
    "    # If this is for the ridge, set this to a log scale on the x-axis:\n",
    "    if regtype == 'ridge':\n",
    "        ax1.set_xscale('log')\n",
    "    \n",
    "    # Enforce the axis limits:\n",
    "    ax1.set_xlim([amin, amax])\n",
    "    \n",
    "    # Put a title on the axis\n",
    "    ax1.set_title(regtype+' coef paths\\n', fontsize=20)\n",
    "    \n",
    "    # Get the ymin and ymax for this axis to enforce it to be the same on the \n",
    "    # second chart:\n",
    "    ymin, ymax = ax1.get_ylim()\n",
    "\n",
    "    # Add our second axes for the barplot in position 2:\n",
    "    ax2 = fig.add_subplot(122)\n",
    "    \n",
    "    # Position the bars according to their index from the feature names variable:\n",
    "    ax2.bar(range(1, len(feature_names)+1), coefs[-1], align='center', color=colors)\n",
    "    ax2.set_xticks(range(1, len(feature_names)+1))\n",
    "    \n",
    "    # Reset the ticks from numbers to acutally be the names:\n",
    "    ax2.set_xticklabels(feature_names, rotation=65, fontsize=12)\n",
    "    \n",
    "    # enforce limits and add titles, labels\n",
    "    ax2.set_ylim([ymin, ymax])\n",
    "    ax2.set_title(regtype+' predictor coefs\\n', fontsize=20)\n",
    "    ax2.set_xlabel('coefficients', fontsize=20)\n",
    "    ax2.set_ylabel('alpha', fontsize=20)\n",
    "    \n",
    "    plt.show()"
   ]
  },
  {
   "cell_type": "code",
   "execution_count": 132,
   "metadata": {
    "collapsed": true
   },
   "outputs": [],
   "source": [
    "ridge_reg5 = Ridge()\n",
    "\n",
    "ridge_reg5_scores = []\n",
    "\n",
    "def ridge_coefs(X, Y, alphas):\n",
    "    \n",
    "    # set up the list to hold the different sets of coefficients:\n",
    "    coefs = []\n",
    "    \n",
    "    # Set up a ridge regression object\n",
    "    #ridge_reg = Ridge()\n",
    "    \n",
    "    # Iterate through the alphas fed into the function:\n",
    "    for a in alphas:\n",
    "        \n",
    "        # On each alpha reset the ridge model's alpha to the current one:\n",
    "        ridge_reg5.set_params(alpha=a)\n",
    "        \n",
    "        # fit or refit the model on the provided X, Y\n",
    "        ridge_reg5.fit(X, Y)\n",
    "        \n",
    "        # Get out the coefficient list (first element of the .coef_ attribute)\n",
    "        coefs.append(ridge_reg5.coef_[0])\n",
    "        ridge_reg5_scores.append(ridge_reg5.score(X, Y))\n",
    "\n",
    "        \n",
    "    return coefs"
   ]
  },
  {
   "cell_type": "code",
   "execution_count": 133,
   "metadata": {
    "collapsed": false
   },
   "outputs": [],
   "source": [
    "\n",
    "r_alphas5 = np.logspace(0, 5, 200)\n",
    "\n",
    "# Get the coefficients for each alpha for the Ridge, using the function above\n",
    "r_coefs5 = ridge_coefs(X5, Y5, r_alphas5)"
   ]
  },
  {
   "cell_type": "code",
   "execution_count": 134,
   "metadata": {
    "collapsed": false
   },
   "outputs": [
    {
     "name": "stdout",
     "output_type": "stream",
     "text": [
      "[-0.02641321  0.00600185 -0.00095994  0.00682146  0.00289127]\n"
     ]
    }
   ],
   "source": [
    "print cross_val_score(ridge_reg5, X5, Y5, cv=5)"
   ]
  },
  {
   "cell_type": "code",
   "execution_count": 136,
   "metadata": {
    "collapsed": false
   },
   "outputs": [
    {
     "name": "stdout",
     "output_type": "stream",
     "text": [
      "Ridge Regression scores: [0.013292291084091842, 0.013292291084091076, 0.013292291084091199, 0.013292291084090944, 0.013292291084092021]\n"
     ]
    }
   ],
   "source": [
    "print \"Ridge Regression scores:\", ridge_reg5_scores[0:5]"
   ]
  },
  {
   "cell_type": "code",
   "execution_count": 137,
   "metadata": {
    "collapsed": false
   },
   "outputs": [
    {
     "data": {
      "image/png": "[encoded data removed]",
      "text/plain": [
       "<matplotlib.figure.Figure at 0x11baf4e90>"
      ]
     },
     "metadata": {
      "image/png": {
       "height": 573,
       "width": 1090
      }
     },
     "output_type": "display_data"
    },
    {
     "data": {
      "text/plain": [
       "<function __main__.ridge_plot_runner>"
      ]
     },
     "execution_count": 137,
     "metadata": {},
     "output_type": "execute_result"
    }
   ],
   "source": [
    "def ridge_plot_runner(log_of_alpha=6):\n",
    "    coef_plotter(r_alphas5, r_coefs5, simple_feature_names5, 10**log_of_alpha, regtype='ridge')\n",
    "\n",
    "interact(ridge_plot_runner, log_of_alpha=(0.0,5.0,0.05))"
   ]
  },
  {
   "cell_type": "raw",
   "metadata": {},
   "source": [
    " From the analysis above, the parameters which affect 'elite' most are:\n",
    " \n",
    " 1. 'compliments_cute' \n",
    " 2. 'compliments_list'. \n",
    " \n",
    " Also noteworthy are: \n",
    " \n",
    " 3.'votes_cool',\n",
    " 4.'compliments_more', \n",
    " 5. 'review_count'. \n",
    " "
   ]
  },
  {
   "cell_type": "raw",
   "metadata": {},
   "source": [
    "Let's compare now the cross-validation scores of the last 3 subsets of the data, labeled\n",
    "(X3,Y3), (X4,Y4) and (X5,Y5)\n",
    "\n",
    "1. (X3,Y3) as for service subset of data; we got: \n",
    " [ 0.00156822  0.          0.00171527  0.          0.00124069]\n",
    " which is not that good. 2 of the results are 0!\n",
    "  This is quite different than the logistic regression score of\n",
    "  0.018798789230524134. It seems our model is not good.\n",
    "   \n",
    "2. (X4,Y4) as for non-service subset of data; we got: \n",
    "  [ 0.00156822  0.          0.00171527  0.          0.00124069]\n",
    "  which is still the same ?! Not clear to me why, still not good\n",
    "  since we have 2 0's. Likewise here, the logistic score is \n",
    "  0.018798789230524134, diffenrent than the cross-validation scores. \n",
    " \n",
    "3. (X5,Y5) is for the whole data; we got:\n",
    "   [-0.02641321  0.00600185 -0.00095994  0.00682146  0.00289127]\n",
    "   Altho' some numbers are negative, it seems better, since none\n",
    "   of the numbers are 0. The Ridge regression scores are:\n",
    "   [0.013292291084091842, 0.013292291084091076, 0.013292291084091199, 0.013292291084090944, 0.013292291084092021]\n",
    "   which are still off from the logistic regression scores. \n",
    "   I would also say that this is not a good model"
   ]
  },
  {
   "cell_type": "code",
   "execution_count": null,
   "metadata": {
    "collapsed": true
   },
   "outputs": [],
   "source": []
  },
  {
   "cell_type": "code",
   "execution_count": null,
   "metadata": {
    "collapsed": true
   },
   "outputs": [],
   "source": []
  },
  {
   "cell_type": "code",
   "execution_count": null,
   "metadata": {
    "collapsed": true
   },
   "outputs": [],
   "source": []
  }
 ],
 "metadata": {
  "anaconda-cloud": {},
  "kernelspec": {
   "display_name": "Python [dsi]",
   "language": "python",
   "name": "Python [dsi]"
  },
  "language_info": {
   "codemirror_mode": {
    "name": "ipython",
    "version": 2
   },
   "file_extension": ".py",
   "mimetype": "text/x-python",
   "name": "python",
   "nbconvert_exporter": "python",
   "pygments_lexer": "ipython2",
   "version": "2.7.12"
  }
 },
 "nbformat": 4,
 "nbformat_minor": 0
}
